{
  "nbformat": 4,
  "nbformat_minor": 0,
  "metadata": {
    "colab": {
      "name": "AdaptativeFastDensityVisDrone.ipynb",
      "provenance": [],
      "collapsed_sections": [],
      "authorship_tag": "ABX9TyN5EKoQnhMT529LXu6Y/JCq",
      "include_colab_link": true
    },
    "kernelspec": {
      "name": "python3",
      "display_name": "Python 3"
    },
    "widgets": {
      "application/vnd.jupyter.widget-state+json": {
        "ad17daed67d84a8d929c2202e3c884e2": {
          "model_module": "@jupyter-widgets/controls",
          "model_name": "HBoxModel",
          "state": {
            "_view_name": "HBoxView",
            "_dom_classes": [],
            "_model_name": "HBoxModel",
            "_view_module": "@jupyter-widgets/controls",
            "_model_module_version": "1.5.0",
            "_view_count": null,
            "_view_module_version": "1.5.0",
            "box_style": "",
            "layout": "IPY_MODEL_50509c9121024079a0d269cd7d9325dc",
            "_model_module": "@jupyter-widgets/controls",
            "children": [
              "IPY_MODEL_c617f8ee27ed44b48f7b9780f2aa943a",
              "IPY_MODEL_b95623735e47419ba301772791d286f9"
            ]
          }
        },
        "50509c9121024079a0d269cd7d9325dc": {
          "model_module": "@jupyter-widgets/base",
          "model_name": "LayoutModel",
          "state": {
            "_view_name": "LayoutView",
            "grid_template_rows": null,
            "right": null,
            "justify_content": null,
            "_view_module": "@jupyter-widgets/base",
            "overflow": null,
            "_model_module_version": "1.2.0",
            "_view_count": null,
            "flex_flow": null,
            "width": null,
            "min_width": null,
            "border": null,
            "align_items": null,
            "bottom": null,
            "_model_module": "@jupyter-widgets/base",
            "top": null,
            "grid_column": null,
            "overflow_y": null,
            "overflow_x": null,
            "grid_auto_flow": null,
            "grid_area": null,
            "grid_template_columns": null,
            "flex": null,
            "_model_name": "LayoutModel",
            "justify_items": null,
            "grid_row": null,
            "max_height": null,
            "align_content": null,
            "visibility": null,
            "align_self": null,
            "height": null,
            "min_height": null,
            "padding": null,
            "grid_auto_rows": null,
            "grid_gap": null,
            "max_width": null,
            "order": null,
            "_view_module_version": "1.2.0",
            "grid_template_areas": null,
            "object_position": null,
            "object_fit": null,
            "grid_auto_columns": null,
            "margin": null,
            "display": null,
            "left": null
          }
        },
        "c617f8ee27ed44b48f7b9780f2aa943a": {
          "model_module": "@jupyter-widgets/controls",
          "model_name": "IntProgressModel",
          "state": {
            "_view_name": "ProgressView",
            "style": "IPY_MODEL_e01ccecb5c0e43f69959fe7b08677f26",
            "_dom_classes": [],
            "description": "100%",
            "_model_name": "IntProgressModel",
            "bar_style": "success",
            "max": 2460,
            "_view_module": "@jupyter-widgets/controls",
            "_model_module_version": "1.5.0",
            "value": 2460,
            "_view_count": null,
            "_view_module_version": "1.5.0",
            "orientation": "horizontal",
            "min": 0,
            "description_tooltip": null,
            "_model_module": "@jupyter-widgets/controls",
            "layout": "IPY_MODEL_eb978c4fb28e44b388738c820bffa159"
          }
        },
        "b95623735e47419ba301772791d286f9": {
          "model_module": "@jupyter-widgets/controls",
          "model_name": "HTMLModel",
          "state": {
            "_view_name": "HTMLView",
            "style": "IPY_MODEL_e983fb7b39194e48a10781c90c8d7926",
            "_dom_classes": [],
            "description": "",
            "_model_name": "HTMLModel",
            "placeholder": "​",
            "_view_module": "@jupyter-widgets/controls",
            "_model_module_version": "1.5.0",
            "value": " 2460/2460 [00:04&lt;00:00, 610.64it/s]",
            "_view_count": null,
            "_view_module_version": "1.5.0",
            "description_tooltip": null,
            "_model_module": "@jupyter-widgets/controls",
            "layout": "IPY_MODEL_90936c1cbc1e443c83a0ebebf0dce7dc"
          }
        },
        "e01ccecb5c0e43f69959fe7b08677f26": {
          "model_module": "@jupyter-widgets/controls",
          "model_name": "ProgressStyleModel",
          "state": {
            "_view_name": "StyleView",
            "_model_name": "ProgressStyleModel",
            "description_width": "initial",
            "_view_module": "@jupyter-widgets/base",
            "_model_module_version": "1.5.0",
            "_view_count": null,
            "_view_module_version": "1.2.0",
            "bar_color": null,
            "_model_module": "@jupyter-widgets/controls"
          }
        },
        "eb978c4fb28e44b388738c820bffa159": {
          "model_module": "@jupyter-widgets/base",
          "model_name": "LayoutModel",
          "state": {
            "_view_name": "LayoutView",
            "grid_template_rows": null,
            "right": null,
            "justify_content": null,
            "_view_module": "@jupyter-widgets/base",
            "overflow": null,
            "_model_module_version": "1.2.0",
            "_view_count": null,
            "flex_flow": null,
            "width": null,
            "min_width": null,
            "border": null,
            "align_items": null,
            "bottom": null,
            "_model_module": "@jupyter-widgets/base",
            "top": null,
            "grid_column": null,
            "overflow_y": null,
            "overflow_x": null,
            "grid_auto_flow": null,
            "grid_area": null,
            "grid_template_columns": null,
            "flex": null,
            "_model_name": "LayoutModel",
            "justify_items": null,
            "grid_row": null,
            "max_height": null,
            "align_content": null,
            "visibility": null,
            "align_self": null,
            "height": null,
            "min_height": null,
            "padding": null,
            "grid_auto_rows": null,
            "grid_gap": null,
            "max_width": null,
            "order": null,
            "_view_module_version": "1.2.0",
            "grid_template_areas": null,
            "object_position": null,
            "object_fit": null,
            "grid_auto_columns": null,
            "margin": null,
            "display": null,
            "left": null
          }
        },
        "e983fb7b39194e48a10781c90c8d7926": {
          "model_module": "@jupyter-widgets/controls",
          "model_name": "DescriptionStyleModel",
          "state": {
            "_view_name": "StyleView",
            "_model_name": "DescriptionStyleModel",
            "description_width": "",
            "_view_module": "@jupyter-widgets/base",
            "_model_module_version": "1.5.0",
            "_view_count": null,
            "_view_module_version": "1.2.0",
            "_model_module": "@jupyter-widgets/controls"
          }
        },
        "90936c1cbc1e443c83a0ebebf0dce7dc": {
          "model_module": "@jupyter-widgets/base",
          "model_name": "LayoutModel",
          "state": {
            "_view_name": "LayoutView",
            "grid_template_rows": null,
            "right": null,
            "justify_content": null,
            "_view_module": "@jupyter-widgets/base",
            "overflow": null,
            "_model_module_version": "1.2.0",
            "_view_count": null,
            "flex_flow": null,
            "width": null,
            "min_width": null,
            "border": null,
            "align_items": null,
            "bottom": null,
            "_model_module": "@jupyter-widgets/base",
            "top": null,
            "grid_column": null,
            "overflow_y": null,
            "overflow_x": null,
            "grid_auto_flow": null,
            "grid_area": null,
            "grid_template_columns": null,
            "flex": null,
            "_model_name": "LayoutModel",
            "justify_items": null,
            "grid_row": null,
            "max_height": null,
            "align_content": null,
            "visibility": null,
            "align_self": null,
            "height": null,
            "min_height": null,
            "padding": null,
            "grid_auto_rows": null,
            "grid_gap": null,
            "max_width": null,
            "order": null,
            "_view_module_version": "1.2.0",
            "grid_template_areas": null,
            "object_position": null,
            "object_fit": null,
            "grid_auto_columns": null,
            "margin": null,
            "display": null,
            "left": null
          }
        }
      }
    }
  },
  "cells": [
    {
      "cell_type": "markdown",
      "metadata": {
        "id": "view-in-github",
        "colab_type": "text"
      },
      "source": [
        "<a href=\"https://colab.research.google.com/github/imenebak/VisDrone_CC/blob/master/AdaptativeFastDensityVisDrone.ipynb\" target=\"_parent\"><img src=\"https://colab.research.google.com/assets/colab-badge.svg\" alt=\"Open In Colab\"/></a>"
      ]
    },
    {
      "cell_type": "code",
      "metadata": {
        "id": "9bSZKl9HA3ha",
        "colab_type": "code",
        "colab": {}
      },
      "source": [
        "from google.colab import drive\n",
        "drive.mount('/content/drive')"
      ],
      "execution_count": 0,
      "outputs": []
    },
    {
      "cell_type": "code",
      "metadata": {
        "id": "v2WQs5c-DmJB",
        "colab_type": "code",
        "colab": {}
      },
      "source": [
        "!unzip \"/content/drive/My Drive/VisdroneCrowdCounting/Visdrone.zip\" -d \"/content/\""
      ],
      "execution_count": 0,
      "outputs": []
    },
    {
      "cell_type": "code",
      "metadata": {
        "id": "jDHVkmiDDyoo",
        "colab_type": "code",
        "colab": {}
      },
      "source": [
        "#set the root to the Shanghai dataset you download\n",
        "root = '/content/'"
      ],
      "execution_count": 0,
      "outputs": []
    },
    {
      "cell_type": "code",
      "metadata": {
        "id": "Do4LmqZyEfHF",
        "colab_type": "code",
        "colab": {}
      },
      "source": [
        "import os\n",
        "import cv2\n",
        "import glob\n",
        "import h5py\n",
        "import scipy\n",
        "import pickle\n",
        "import numpy as np\n",
        "from PIL import Image\n",
        "import scipy.io as io\n",
        "from scipy import spatial\n",
        "from itertools import islice\n",
        "from tqdm import tqdm_notebook\n",
        "from matplotlib import pyplot as plt\n",
        "from sortedcontainers import SortedDict\n",
        "from scipy.ndimage.filters import gaussian_filter \n",
        "%matplotlib inline"
      ],
      "execution_count": 0,
      "outputs": []
    },
    {
      "cell_type": "code",
      "metadata": {
        "id": "x02MvszyGdjl",
        "colab_type": "code",
        "colab": {}
      },
      "source": [
        "def get_img_pathes(path_sets):\n",
        "    \"\"\"\n",
        "    Return all images from all pathes in 'path_sets'\n",
        "    \"\"\"\n",
        "    img_pathes = []\n",
        "    for path in path_sets:\n",
        "        for img_path in glob.glob(os.path.join(path, '*.jpg')):\n",
        "            img_pathes.append(img_path)\n",
        "    return img_pathes\n",
        "\n",
        "\n",
        "def save_computed_density(density_map, out_path):\n",
        "    \"\"\"\n",
        "    Save density map to h5py format\n",
        "    \"\"\"\n",
        "    with h5py.File(out_path, 'w') as hf:\n",
        "        hf['density'] = density_map\n",
        "        \n",
        "\n",
        "def compute_sigma(gt_count, distance=None, min_sigma=1, method=1, fixed_sigma=15):\n",
        "    \"\"\"\n",
        "    Compute sigma for gaussian kernel with different methods :\n",
        "    * method = 1 : sigma = (sum of distance to 3 nearest neighbors) / 10\n",
        "    * method = 2 : sigma = distance to nearest neighbor\n",
        "    * method = 3 : sigma = fixed value\n",
        "    ** if sigma lower than threshold 'min_sigma', then 'min_sigma' will be used\n",
        "    ** in case of one point on the image sigma = 'fixed_sigma'\n",
        "    \"\"\"    \n",
        "    if gt_count > 1 and distance is not None:\n",
        "        if   method == 1:\n",
        "            sigma = np.mean(distance[1:4])*0.1\n",
        "        elif method == 2:\n",
        "            sigma = distance[1]\n",
        "        elif method == 3:\n",
        "            sigma = fixed_sigma\n",
        "    else:\n",
        "        sigma = fixed_sigma\n",
        "    if sigma < min_sigma:\n",
        "        sigma = min_sigma\n",
        "    return sigma\n",
        "def find_closest_key(sorted_dict, key):\n",
        "    \"\"\"\n",
        "    Find closest key in sorted_dict to 'key'\n",
        "    \"\"\"\n",
        "    keys = list(islice(sorted_dict.irange(minimum=key), 1))\n",
        "    keys.extend(islice(sorted_dict.irange(maximum=key, reverse=True), 1))\n",
        "    return min(keys, key=lambda k: abs(key - k))"
      ],
      "execution_count": 0,
      "outputs": []
    },
    {
      "cell_type": "code",
      "metadata": {
        "id": "HdyzG9FoGnF3",
        "colab_type": "code",
        "colab": {}
      },
      "source": [
        "def gaussian_filter_density(non_zero_points, map_h, map_w, distances=None, kernels_dict=None, min_sigma=2, method=1, const_sigma=15):\n",
        "    \"\"\"\n",
        "    Fast gaussian filter implementation : using precomputed distances and kernels\n",
        "    \"\"\"\n",
        "    gt_count = non_zero_points.shape[0]\n",
        "    density_map = np.zeros((map_h, map_w), dtype=np.float32)\n",
        "    print(map_h, map_w)\n",
        "    for i in range(gt_count):\n",
        "        point_y, point_x = non_zero_points[i]\n",
        "        sigma = compute_sigma(gt_count, distances[i], min_sigma=min_sigma, method=method, fixed_sigma=const_sigma)\n",
        "        closest_sigma = find_closest_key(kernels_dict, sigma)\n",
        "        kernel = kernels_dict[closest_sigma]\n",
        "        full_kernel_size = kernel.shape[0]\n",
        "        kernel_size = full_kernel_size // 2\n",
        "\n",
        "        min_img_x = max(0, point_x-kernel_size)\n",
        "        min_img_y = max(0, point_y-kernel_size)\n",
        "        max_img_x = min(point_x+kernel_size+1, map_h - 1)\n",
        "        max_img_y = min(point_y+kernel_size+1, map_w - 1)\n",
        "\n",
        "        kernel_x_min = kernel_size - point_x if point_x <= kernel_size else 0\n",
        "        kernel_y_min = kernel_size - point_y if point_y <= kernel_size else 0\n",
        "        kernel_x_max = kernel_x_min + max_img_x - min_img_x\n",
        "        kernel_y_max = kernel_y_min + max_img_y - min_img_y\n",
        "        #print(min_img_x,max_img_x, min_img_y,max_img_y)\n",
        "        if(max_img_y - min_img_y) == (kernel_y_max-kernel_y_min):\n",
        "          density_map[min_img_x:max_img_x, min_img_y:max_img_y] += kernel[kernel_x_min:kernel_x_max, kernel_y_min:kernel_y_max]\n",
        "          print(density_map)\n",
        "    return density_map"
      ],
      "execution_count": 0,
      "outputs": []
    },
    {
      "cell_type": "code",
      "metadata": {
        "id": "wQXxXVdLGsA5",
        "colab_type": "code",
        "colab": {}
      },
      "source": [
        "def get_gt_dots(mat_path, annotation, img_height, img_width):\n",
        "    \"\"\"\n",
        "    Load ground truth coordinates and save it to numpy array\n",
        "    \"\"\"\n",
        "    gt =[]\n",
        "    file_annota = open(mat_path)\n",
        "    lines = file_annota.readlines()\n",
        "    file_annota.close()\n",
        "    for ligne in lines:\n",
        "        line = ligne.strip()\n",
        "        line = line.split(\",\")\n",
        "        line = list(map(int, line))\n",
        "        if line[0] == int(annotation):\n",
        "          #print(\"get_gt_dots :\", line)\n",
        "          gt.append([line[2], line[1]])\n",
        "    #print(gt)\n",
        "    gt = np.array(gt)\n",
        "    gt[:,0] = gt[:,0].clip(0, img_width - 1)\n",
        "    gt[:,1] = gt[:,1].clip(0, img_height - 1)\n",
        "    #print(gt)\n",
        "    return gt\n",
        "\n",
        "def set_circles_on_img(image, bbox_list, circle_size=2):\n",
        "    \"\"\"\n",
        "    Set circles on images at centers of bboxes in bbox_list\n",
        "    \"\"\"\n",
        "    for bbox in bbox_list:\n",
        "        cv2.circle(image, (bbox[0], bbox[1]), circle_size, (255, 0, 0), -1)\n",
        "    return image"
      ],
      "execution_count": 0,
      "outputs": []
    },
    {
      "cell_type": "code",
      "metadata": {
        "id": "5jOdPeWrGtbj",
        "colab_type": "code",
        "colab": {}
      },
      "source": [
        "def generate_gaussian_kernels(out_kernels_path='gaussian_kernels.pkl', round_decimals = 3, sigma_threshold = 4, sigma_min=0, sigma_max=20, num_sigmas=2460):\n",
        "    \"\"\"\n",
        "    Computing gaussian filter kernel for sigmas in linspace(sigma_min, sigma_max, num_sigmas) and saving \n",
        "    them to dict.     \n",
        "    \"\"\"\n",
        "    kernels_dict = dict()\n",
        "    sigma_space = np.linspace(sigma_min, sigma_max, num_sigmas)\n",
        "    for sigma in tqdm_notebook(sigma_space):\n",
        "        sigma = np.round(sigma, decimals=round_decimals) \n",
        "        kernel_size = np.ceil(sigma*sigma_threshold).astype(np.int)\n",
        "\n",
        "        img_shape  = (kernel_size*2+1, kernel_size*2+1)\n",
        "        img_center = (img_shape[0]//2, img_shape[1]//2)\n",
        "\n",
        "        arr = np.zeros(img_shape)\n",
        "        arr[img_center] = 1\n",
        "\n",
        "        arr = scipy.ndimage.filters.gaussian_filter(arr, sigma, mode='constant') \n",
        "        kernel = arr / arr.sum()\n",
        "        kernels_dict[sigma] = kernel\n",
        "        \n",
        "    print(f'Computed {len(sigma_space)} gaussian kernels. Saving them to {out_kernels_path}')\n",
        "\n",
        "    with open(out_kernels_path, 'wb') as f:\n",
        "        pickle.dump(kernels_dict, f)"
      ],
      "execution_count": 0,
      "outputs": []
    },
    {
      "cell_type": "code",
      "metadata": {
        "id": "VYSeKqaITbEi",
        "colab_type": "code",
        "colab": {}
      },
      "source": [
        "import re\n",
        "\n",
        "def recup_annotation_img(img_path):\n",
        "          img = plt.imread(img_path)\n",
        "          #print(img_path)\n",
        "          #annotation = img_path.replace('.jpg','')\n",
        "          annotation = img_path\n",
        "          result = re.search('sequences/(.*).jpg', annotation)\n",
        "          result = result.group(1)\n",
        "          folder, imgg = result.split('/')\n",
        "          #print(folder, imgg)\n",
        "          #print(img_path.split(folder))\n",
        "          folderPath = img_path.split(folder)\n",
        "          img_folder_path = folderPath[0]+folder\n",
        "          pos = 0\n",
        "          #nombre de l'image\n",
        "          for nbr in imgg:\n",
        "            if nbr != '0':\n",
        "              imgg = imgg[pos:]\n",
        "              break\n",
        "            pos+=1\n",
        "          file_annota = img_folder_path.replace('sequences','annotations')+\".txt\"\n",
        "          #img: frame,  file_annota: path of annotation, imgg: frame name\n",
        "          return(img, file_annota, imgg)\n"
      ],
      "execution_count": 0,
      "outputs": []
    },
    {
      "cell_type": "code",
      "metadata": {
        "id": "V2UPqdZbGyfg",
        "colab_type": "code",
        "colab": {}
      },
      "source": [
        "def compute_distances(out_dist_path, VisDrone_root_path, n_neighbors = 15, leafsize=1024):\n",
        "    distances_dict = dict()\n",
        "\n",
        "    for img_path in VisDrone_root_path:\n",
        "          #mat_path = full_img_path.replace('.jpg','.mat').replace('images','ground-truth').replace('IMG_','GT_IMG_')\n",
        "          \n",
        "          #img = plt.imread(full_img_path)\n",
        "          #print(img_path)\n",
        "          img, file_annota, annotation = recup_annotation_img(img_path)\n",
        "\n",
        "          non_zero_points = get_gt_dots(file_annota, annotation, *img.shape[0:2])\n",
        "\n",
        "          tree = spatial.KDTree(non_zero_points.copy(), leafsize=leafsize)  # build kdtree\n",
        "          distances, _ = tree.query(non_zero_points, k=n_neighbors)  # query kdtree\n",
        "\n",
        "          distances_dict[img_path] = distances\n",
        "        \n",
        "    print(f'Distances computed for {len(VisDrone_root_path)}. Saving them to {out_dist_path}')\n",
        "    with open(out_dist_path, 'wb') as f:\n",
        "      pickle.dump(distances_dict, f)"
      ],
      "execution_count": 0,
      "outputs": []
    },
    {
      "cell_type": "code",
      "metadata": {
        "id": "EXuhsBG_LKj3",
        "colab_type": "code",
        "colab": {
          "base_uri": "https://localhost:8080/",
          "height": 154,
          "referenced_widgets": [
            "ad17daed67d84a8d929c2202e3c884e2",
            "50509c9121024079a0d269cd7d9325dc",
            "c617f8ee27ed44b48f7b9780f2aa943a",
            "b95623735e47419ba301772791d286f9",
            "e01ccecb5c0e43f69959fe7b08677f26",
            "eb978c4fb28e44b388738c820bffa159",
            "e983fb7b39194e48a10781c90c8d7926",
            "90936c1cbc1e443c83a0ebebf0dce7dc"
          ]
        },
        "outputId": "5347e3be-5018-4e3a-a81c-c794eea500a4"
      },
      "source": [
        "precomputed_kernels_path = 'gaussian_kernels.pkl'\n",
        "\n",
        "# uncomment to generate and save dict with kernel sizes\n",
        "generate_gaussian_kernels(precomputed_kernels_path, round_decimals=3, sigma_threshold=4, sigma_min=0, sigma_max=20, num_sigmas=2460)\n",
        "    \n",
        "with open(precomputed_kernels_path, 'rb') as f:\n",
        "    kernels_dict = pickle.load(f)\n",
        "    kernels_dict = SortedDict(kernels_dict)"
      ],
      "execution_count": 136,
      "outputs": [
        {
          "output_type": "stream",
          "text": [
            "/usr/local/lib/python3.6/dist-packages/ipykernel_launcher.py:8: TqdmDeprecationWarning: This function will be removed in tqdm==5.0.0\n",
            "Please use `tqdm.notebook.tqdm` instead of `tqdm.tqdm_notebook`\n",
            "  \n"
          ],
          "name": "stderr"
        },
        {
          "output_type": "display_data",
          "data": {
            "application/vnd.jupyter.widget-view+json": {
              "model_id": "ad17daed67d84a8d929c2202e3c884e2",
              "version_minor": 0,
              "version_major": 2
            },
            "text/plain": [
              "HBox(children=(IntProgress(value=0, max=2460), HTML(value='')))"
            ]
          },
          "metadata": {
            "tags": []
          }
        },
        {
          "output_type": "stream",
          "text": [
            "\n",
            "Computed 2460 gaussian kernels. Saving them to gaussian_kernels.pkl\n"
          ],
          "name": "stdout"
        }
      ]
    },
    {
      "cell_type": "code",
      "metadata": {
        "id": "qQAaBcC6QQVO",
        "colab_type": "code",
        "colab": {}
      },
      "source": [
        "import os\n",
        "#now generate the ShanghaiA's ground truth\n",
        "train = os.path.join(root,'train/sequences')\n",
        "test = os.path.join(root,'test/sequences')\n",
        "path_sets = [train,test]"
      ],
      "execution_count": 0,
      "outputs": []
    },
    {
      "cell_type": "markdown",
      "metadata": {
        "id": "g1-331W2QtEN",
        "colab_type": "text"
      },
      "source": [
        "train Data"
      ]
    },
    {
      "cell_type": "code",
      "metadata": {
        "id": "bHIOH8xsQql2",
        "colab_type": "code",
        "outputId": "8a8ecc4e-0dfb-4d9a-8cbe-99c162ff674a",
        "colab": {
          "base_uri": "https://localhost:8080/",
          "height": 54
        }
      },
      "source": [
        "img_folder_paths=[]\n",
        "for path, dirs, files in os.walk(path_sets[0]):\n",
        "    for d in dirs:\n",
        "      img_folder_paths.append(path_sets[0]+\"/\"+d)\n",
        "print(img_folder_paths)"
      ],
      "execution_count": 138,
      "outputs": [
        {
          "output_type": "stream",
          "text": [
            "['/content/train/sequences/00094', '/content/train/sequences/00084', '/content/train/sequences/00067', '/content/train/sequences/00102', '/content/train/sequences/00027', '/content/train/sequences/00019', '/content/train/sequences/00054', '/content/train/sequences/00109', '/content/train/sequences/00003', '/content/train/sequences/00052', '/content/train/sequences/00086', '/content/train/sequences/00039', '/content/train/sequences/00071', '/content/train/sequences/00009', '/content/train/sequences/00078', '/content/train/sequences/00059', '/content/train/sequences/00037', '/content/train/sequences/00083', '/content/train/sequences/00033', '/content/train/sequences/00080', '/content/train/sequences/00047', '/content/train/sequences/00041', '/content/train/sequences/00008', '/content/train/sequences/00040', '/content/train/sequences/00085', '/content/train/sequences/00089', '/content/train/sequences/00064', '/content/train/sequences/00092', '/content/train/sequences/00051', '/content/train/sequences/00030', '/content/train/sequences/00060', '/content/train/sequences/00091', '/content/train/sequences/00057', '/content/train/sequences/00050', '/content/train/sequences/00004', '/content/train/sequences/00093', '/content/train/sequences/00032', '/content/train/sequences/00096', '/content/train/sequences/00020', '/content/train/sequences/00110', '/content/train/sequences/00090', '/content/train/sequences/00007', '/content/train/sequences/00031', '/content/train/sequences/00046', '/content/train/sequences/00066', '/content/train/sequences/00072', '/content/train/sequences/00081', '/content/train/sequences/00025', '/content/train/sequences/00106', '/content/train/sequences/00005', '/content/train/sequences/00073', '/content/train/sequences/00029', '/content/train/sequences/00021', '/content/train/sequences/00098', '/content/train/sequences/00087', '/content/train/sequences/00077', '/content/train/sequences/00038', '/content/train/sequences/00045', '/content/train/sequences/00036', '/content/train/sequences/00002', '/content/train/sequences/00055', '/content/train/sequences/00068', '/content/train/sequences/00058', '/content/train/sequences/00076', '/content/train/sequences/00026', '/content/train/sequences/00099', '/content/train/sequences/00013', '/content/train/sequences/00014', '/content/train/sequences/00104', '/content/train/sequences/00001', '/content/train/sequences/00049', '/content/train/sequences/00012', '/content/train/sequences/00053', '/content/train/sequences/00028', '/content/train/sequences/00010', '/content/train/sequences/00097', '/content/train/sequences/00056', '/content/train/sequences/00048', '/content/train/sequences/00006', '/content/train/sequences/00107', '/content/train/sequences/00079', '/content/train/sequences/00100', '/content/train/sequences/.ipynb_checkpoints']\n"
          ],
          "name": "stdout"
        }
      ]
    },
    {
      "cell_type": "code",
      "metadata": {
        "id": "MilTsBu7-uEs",
        "colab_type": "code",
        "colab": {
          "base_uri": "https://localhost:8080/",
          "height": 34
        },
        "outputId": "f8ef21c5-5535-45c6-f09f-ce930c2009c4"
      },
      "source": [
        "fully = []\n",
        "for img_folder_path in img_folder_paths:\n",
        "      for path, dirs, files in os.walk(img_folder_path):\n",
        "        for img_path in files:\n",
        "          fully.append(img_folder_path+\"/\"+img_path)\n",
        "print(len(fully))"
      ],
      "execution_count": 139,
      "outputs": [
        {
          "output_type": "stream",
          "text": [
            "2460\n"
          ],
          "name": "stdout"
        }
      ]
    },
    {
      "cell_type": "code",
      "metadata": {
        "id": "-4-OdJg-LNOF",
        "colab_type": "code",
        "outputId": "cd0af97f-951c-4fcb-dccd-3e66fc3debe8",
        "colab": {
          "base_uri": "https://localhost:8080/",
          "height": 34
        }
      },
      "source": [
        "precomputed_distances_path = 'distances_dict.pkl'\n",
        "\n",
        "# uncomment to generate and save dict with distances \n",
        "compute_distances(precomputed_distances_path,fully)\n",
        "    \n",
        "with open(precomputed_distances_path, 'rb') as f:\n",
        "    distances_dict = pickle.load(f)"
      ],
      "execution_count": 140,
      "outputs": [
        {
          "output_type": "stream",
          "text": [
            "Distances computed for 2460. Saving them to distances_dict.pkl\n"
          ],
          "name": "stdout"
        }
      ]
    },
    {
      "cell_type": "code",
      "metadata": {
        "id": "TG0SFQpCLT05",
        "colab_type": "code",
        "colab": {}
      },
      "source": [
        "# generate GT for part A\n",
        "data_root  = root+'train/'\n",
        "map_out_folder = 'maps_adaptive_kernel/'\n",
        "min_sigma = 2  ## can be set 0\n",
        "method = 1\n",
        "import time\n",
        "\n",
        "for img_path in fully[70:]:\n",
        "          _, file_annota, annotation = recup_annotation_img(img_path)\n",
        "          print(file_annota)\n",
        "          #data_folder, img_path = full_img_path.split('images')\n",
        "          #mat_path = full_img_path.replace('.jpg','.mat').replace('images','ground-truth').replace('IMG_','GT_IMG_')\n",
        "          print(img_path)\n",
        "          # load img and map\n",
        "          img = Image.open(img_path)\n",
        "          width, height = img.size\n",
        "          gt_points = get_gt_dots(file_annota,annotation, height, width)\n",
        "    \n",
        "          distances = distances_dict[img_path]\n",
        "          #print(\"size : \",img.size,\"gt_points\", gt_points,\"distance\", distances)\n",
        "          start_time = time.time()\n",
        "          density_map = gaussian_filter_density(gt_points, height, width, distances, kernels_dict, min_sigma=min_sigma, method=method)\n",
        "          print(\"Temps d execution : %s secondes ---\" % (time.time() - start_time))\n",
        "          #curr_map_out_folder = data_folder + map_out_folder\n",
        "          #gt_out_path = curr_map_out_folder + img_path.strip('/').replace('.jpg', '.h5')\n",
        "          #curr_map_out_folder=img_path.replace('.jpg','.h5')\n",
        "          #with h5py.File(img_path.replace('.jpg','.h5'), 'w') as hf:\n",
        "            #hf['density'] = density_map\n",
        "          curr_map_out_folder = \"/content/train/\" + map_out_folder\n",
        "\n",
        "          annotation = img_path\n",
        "          result = re.search('sequences/(.*).jpg', annotation)\n",
        "          result = result.group(1)\n",
        "          folder, imgg = result.split('/')\n",
        "          #print(folder, imgg)\n",
        "          #print(img_path.split(folder))\n",
        "          folderPath = img_path.split(folder)\n",
        "          img_folder_path = folderPath[0]+folder\n",
        "\n",
        "          gt_out_path = curr_map_out_folder + result+\".h5\"\n",
        "    \n",
        "#     #plt.imshow(img)\n",
        "#     plt.imshow(density_map, alpha=1)\n",
        "#     plt.show()\n",
        "#     break\n",
        "#guvutxtcgv\n",
        "#khgc    \n",
        "\n",
        "          if not os.path.isdir(curr_map_out_folder):\n",
        "            print('creating ' + curr_map_out_folder)\n",
        "            #os.makedirs(curr_map_out_folder)\n",
        "          try:\n",
        "              os.mkdir(curr_map_out_folder)\n",
        "          except OSError:\n",
        "                print (\"Creation of the directory %s failed\" % path)\n",
        "          else:\n",
        "                print (\"Successfully created the directory %s \" % path)\n",
        "          try:\n",
        "              os.mkdir(curr_map_out_folder+folder)\n",
        "          except OSError:\n",
        "                print (\"Creation of the directory %s failed\" % path)\n",
        "          else:\n",
        "                print (\"Successfully created the directory %s \" % path)\n",
        "          save_computed_density(density_map, gt_out_path)\n",
        "          break"
      ],
      "execution_count": 0,
      "outputs": []
    },
    {
      "cell_type": "code",
      "metadata": {
        "id": "g3nE-ZkFsZIB",
        "colab_type": "code",
        "colab": {}
      },
      "source": [
        " plt.imshow(img)"
      ],
      "execution_count": 0,
      "outputs": []
    },
    {
      "cell_type": "code",
      "metadata": {
        "id": "5F40HTJZLcMY",
        "colab_type": "code",
        "colab": {
          "base_uri": "https://localhost:8080/",
          "height": 240
        },
        "outputId": "e08f3151-b255-43aa-9634-2e4cb67ce533"
      },
      "source": [
        "  plt.imshow(img)\n",
        "  plt.imshow(density_map, alpha=1)\n",
        "  plt.show()"
      ],
      "execution_count": 143,
      "outputs": [
        {
          "output_type": "display_data",
          "data": {
            "image/png": "[encoded data removed]",
            "text/plain": [
              "<Figure size 432x288 with 1 Axes>"
            ]
          },
          "metadata": {
            "tags": [],
            "needs_background": "light"
          }
        }
      ]
    },
    {
      "cell_type": "code",
      "metadata": {
        "id": "f5vLTURx2hu8",
        "colab_type": "code",
        "colab": {
          "base_uri": "https://localhost:8080/",
          "height": 34
        },
        "outputId": "af95e723-34be-4e04-edc3-29ee0be2c5fa"
      },
      "source": [
        "np.sum(density_map)"
      ],
      "execution_count": 145,
      "outputs": [
        {
          "output_type": "execute_result",
          "data": {
            "text/plain": [
              "188.64032"
            ]
          },
          "metadata": {
            "tags": []
          },
          "execution_count": 145
        }
      ]
    }
  ]
}